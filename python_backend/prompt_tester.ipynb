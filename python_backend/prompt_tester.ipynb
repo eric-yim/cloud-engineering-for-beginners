{
  "nbformat": 4,
  "nbformat_minor": 0,
  "metadata": {
    "colab": {
      "provenance": []
    },
    "kernelspec": {
      "name": "python3",
      "display_name": "Python 3"
    },
    "language_info": {
      "name": "python"
    }
  },
  "cells": [
    {
      "cell_type": "code",
      "execution_count": 1,
      "metadata": {
        "colab": {
          "base_uri": "https://localhost:8080/"
        },
        "id": "oIcWNSxgd5eb",
        "outputId": "8ff1cc0e-23df-4211-d9a9-58eaed7c2654"
      },
      "outputs": [
        {
          "output_type": "stream",
          "name": "stdout",
          "text": [
            "Collecting openai==1.1.1\n",
            "  Downloading openai-1.1.1-py3-none-any.whl (217 kB)\n",
            "\u001b[2K     \u001b[90m━━━━━━━━━━━━━━━━━━━━━━━━━━━━━━━━━━━━━━━━\u001b[0m \u001b[32m217.8/217.8 kB\u001b[0m \u001b[31m2.1 MB/s\u001b[0m eta \u001b[36m0:00:00\u001b[0m\n",
            "\u001b[?25hRequirement already satisfied: anyio<4,>=3.5.0 in /usr/local/lib/python3.10/dist-packages (from openai==1.1.1) (3.7.1)\n",
            "Requirement already satisfied: distro<2,>=1.7.0 in /usr/lib/python3/dist-packages (from openai==1.1.1) (1.7.0)\n",
            "Collecting httpx<1,>=0.23.0 (from openai==1.1.1)\n",
            "  Downloading httpx-0.26.0-py3-none-any.whl (75 kB)\n",
            "\u001b[2K     \u001b[90m━━━━━━━━━━━━━━━━━━━━━━━━━━━━━━━━━━━━━━━━\u001b[0m \u001b[32m75.9/75.9 kB\u001b[0m \u001b[31m6.5 MB/s\u001b[0m eta \u001b[36m0:00:00\u001b[0m\n",
            "\u001b[?25hRequirement already satisfied: pydantic<3,>=1.9.0 in /usr/local/lib/python3.10/dist-packages (from openai==1.1.1) (1.10.13)\n",
            "Requirement already satisfied: tqdm>4 in /usr/local/lib/python3.10/dist-packages (from openai==1.1.1) (4.66.1)\n",
            "Requirement already satisfied: typing-extensions<5,>=4.5 in /usr/local/lib/python3.10/dist-packages (from openai==1.1.1) (4.5.0)\n",
            "Requirement already satisfied: idna>=2.8 in /usr/local/lib/python3.10/dist-packages (from anyio<4,>=3.5.0->openai==1.1.1) (3.6)\n",
            "Requirement already satisfied: sniffio>=1.1 in /usr/local/lib/python3.10/dist-packages (from anyio<4,>=3.5.0->openai==1.1.1) (1.3.0)\n",
            "Requirement already satisfied: exceptiongroup in /usr/local/lib/python3.10/dist-packages (from anyio<4,>=3.5.0->openai==1.1.1) (1.2.0)\n",
            "Requirement already satisfied: certifi in /usr/local/lib/python3.10/dist-packages (from httpx<1,>=0.23.0->openai==1.1.1) (2023.11.17)\n",
            "Collecting httpcore==1.* (from httpx<1,>=0.23.0->openai==1.1.1)\n",
            "  Downloading httpcore-1.0.2-py3-none-any.whl (76 kB)\n",
            "\u001b[2K     \u001b[90m━━━━━━━━━━━━━━━━━━━━━━━━━━━━━━━━━━━━━━━━\u001b[0m \u001b[32m76.9/76.9 kB\u001b[0m \u001b[31m3.6 MB/s\u001b[0m eta \u001b[36m0:00:00\u001b[0m\n",
            "\u001b[?25hCollecting h11<0.15,>=0.13 (from httpcore==1.*->httpx<1,>=0.23.0->openai==1.1.1)\n",
            "  Downloading h11-0.14.0-py3-none-any.whl (58 kB)\n",
            "\u001b[2K     \u001b[90m━━━━━━━━━━━━━━━━━━━━━━━━━━━━━━━━━━━━━━━━\u001b[0m \u001b[32m58.3/58.3 kB\u001b[0m \u001b[31m3.8 MB/s\u001b[0m eta \u001b[36m0:00:00\u001b[0m\n",
            "\u001b[?25hInstalling collected packages: h11, httpcore, httpx, openai\n",
            "\u001b[31mERROR: pip's dependency resolver does not currently take into account all the packages that are installed. This behaviour is the source of the following dependency conflicts.\n",
            "llmx 0.0.15a0 requires cohere, which is not installed.\n",
            "llmx 0.0.15a0 requires tiktoken, which is not installed.\u001b[0m\u001b[31m\n",
            "\u001b[0mSuccessfully installed h11-0.14.0 httpcore-1.0.2 httpx-0.26.0 openai-1.1.1\n"
          ]
        }
      ],
      "source": [
        "## Install openai python package\n",
        "!pip install openai==1.1.1"
      ]
    },
    {
      "cell_type": "code",
      "source": [
        "import os\n",
        "os.environ['OPENAI_API_KEY']=\"\""
      ],
      "metadata": {
        "id": "pzNSpzFkkr7D"
      },
      "execution_count": 6,
      "outputs": []
    },
    {
      "cell_type": "code",
      "source": [
        "from openai import OpenAI\n",
        "client = OpenAI()\n",
        "class ChatGPTPrompter:\n",
        "    @staticmethod\n",
        "    def prompt(messages):\n",
        "        response = client.chat.completions.create(model=\"gpt-3.5-turbo\", messages=messages)\n",
        "        return ChatGPTPrompter.parse_openai_response(response)\n",
        "    @staticmethod\n",
        "    def parse_openai_response(response):\n",
        "        return response.choices[0].message.content"
      ],
      "metadata": {
        "id": "gaR_RhA7k-Og"
      },
      "execution_count": 8,
      "outputs": []
    },
    {
      "cell_type": "code",
      "source": [
        "messages = [\n",
        "    {'role': 'system', 'content': 'Your are an assistant who creates quizzes.'},\n",
        "    {'role': 'user', 'content': 'ask me a question, any random question.'}\n",
        "]\n",
        "response = ChatGPTPrompter.prompt(messages)\n",
        "print(response)"
      ],
      "metadata": {
        "colab": {
          "base_uri": "https://localhost:8080/"
        },
        "id": "tLqtGiXtlBRF",
        "outputId": "be962f24-3a27-490c-c945-c1342928da5f"
      },
      "execution_count": 10,
      "outputs": [
        {
          "output_type": "stream",
          "name": "stdout",
          "text": [
            "Sure! Here's a random question for you:\n",
            "\n",
            "What is the capital city of Australia?\n"
          ]
        }
      ]
    },
    {
      "cell_type": "code",
      "source": [
        "PROMPT = \"\"\"\n",
        "Create a multiple-choice quiz regarding the CONTENT below. The NUMBER of\n",
        "questions will be specified below. Each question you generate should\n",
        "have 2-4 possible answers. You should provide your questions and answers in\n",
        "EXAMPLE FORMAT below.\n",
        "\n",
        "EXAMPLE FORMAT:\n",
        "Question: Some question about the content?\n",
        "Answers: [answer1 | answer2 | answer3]\n",
        "Correct: answer2\n",
        "\n",
        "NUMBER: 3\n",
        "CONTENT: Education is the transmission of knowledge, skills, and character traits and comes in many forms. Formal education happens in a complex institutional framework, like public schools. Non-formal education is also structured but takes place outside the formal schooling system, while informal education is unstructured learning through daily experiences. Formal and non-formal education are divided into levels that include early childhood education, primary education, secondary education, and tertiary education. Other classifications focus on the teaching method, like teacher-centered and student-centered education, and on the subject, like science education, language education, and physical education. The term \"education\" can also refer to the mental states and qualities of educated people and the academic field studying educational phenomena.\n",
        "\n",
        "The precise definition of education is disputed, and there are disagreements about what the aims of education are and to what extent education is different from indoctrination by fostering critical thinking. These disagreements affect how to identify, measure, and improve forms of education. Fundamentally, education socializes children into society by teaching cultural values and norms. It equips them with the skills needed to become productive members of society. This way, it stimulates economic growth and raises awareness of local and global problems. Organized institutions affect many aspects of education. For example, governments set education policies to determine when school classes happen, what is taught, and who can or must attend. International organizations, like UNESCO, have been influential in promoting primary education for all children.\n",
        "\n",
        "Many factors influence whether education is successful. Psychological factors include motivation, intelligence, and personality. Social factors, like socioeconomic status, ethnicity, and gender, are often linked to discrimination. Further factors include access to educational technology, teacher quality, and parent involvement.\n",
        "\n",
        "The main academic field investigating education is called education studies. It examines what education is, what aims and effects it has, and how to improve it. Education studies has many subfields, like philosophy, psychology, sociology, and economics of education. It also discusses comparative education, pedagogy, and the history of education.\n",
        "\n",
        "In prehistory, education happened informally through oral communication and imitation. With the rise of ancient civilizations, writing was invented, and the amount of knowledge grew. This caused a shift from informal to formal education. Initially, formal education was mainly available to elites and religious groups. The invention of the printing press in the 15th century made books more widely available. This increased general literacy. Beginning in the 18th and 19th centuries, public education became more important. This development led to the worldwide process of making primary education available to all, free of charge, and compulsory up to a certain age. Today, over 90% of all primary-school-age children worldwide attend primary school.\n",
        "\"\"\"\n",
        "messages = [\n",
        "    {'role': 'system', 'content': 'Your are an assistant who creates quizzes.'},\n",
        "    {'role': 'user', 'content': PROMPT}\n",
        "]\n",
        "response = ChatGPTPrompter.prompt(messages)\n",
        "print(response)"
      ],
      "metadata": {
        "colab": {
          "base_uri": "https://localhost:8080/"
        },
        "outputId": "fa416d29-9077-4c25-92ec-e1ef33488345",
        "id": "5dKjhtBWl82e"
      },
      "execution_count": 13,
      "outputs": [
        {
          "output_type": "stream",
          "name": "stdout",
          "text": [
            "Question: How is formal education different from non-formal education and informal education?\n",
            "Answers: [It takes place in schools | It is unstructured learning | It is structured learning outside of the formal schooling system | It is learning through daily experiences]\n",
            "Correct: It takes place in schools\n",
            "\n",
            "Question: What are some classifications of formal and non-formal education?\n",
            "Answers: [Early childhood education, primary education, secondary education and tertiary education | Science education, music education, and art education | Teacher-centered and student-centered education | Language education, physical education, and social studies education]\n",
            "Correct: Early childhood education, primary education, secondary education and tertiary education\n",
            "\n",
            "Question: What is the main academic field investigating education?\n",
            "Answers: [Philosophy | Psychology | Sociology | Economics of education]\n",
            "Correct: Education studies\n"
          ]
        }
      ]
    },
    {
      "cell_type": "code",
      "source": [],
      "metadata": {
        "id": "DgoCXezxmk5w"
      },
      "execution_count": null,
      "outputs": []
    }
  ]
}